{
 "cells": [
  {
   "cell_type": "markdown",
   "id": "d762ae0c",
   "metadata": {},
   "source": [
    "# Site-Level Roadway Safety Assessment Process\n",
    "\n",
    "## Part 1: Existing conditions analysis\n",
    "- Location, land use\n",
    "- Physical conditions\n",
    "    - Pavement conditions\n",
    "    - Pavement markings and traffic controls\n",
    "    - Sight distance obstructions\n",
    "    - Visual clutter\n",
    "- Roadway users\n",
    "    \n",
    "## Part 2: [Crash data analysis](2_Crash-data-analysis.ipynb)\n",
    "### (1) Crash statistics description\n",
    "- Time: Year, Month, Day of Week, Hour\n",
    "- Crash Type, Type x Severity/Time\n",
    "- Crash Severity, Severity/Type/Time\n",
    "    \n",
    "### (2) Contributing factors analysis\n",
    "- Roadway engineering factors\n",
    "     - Curvature\n",
    "     - Lane width\n",
    "     - Sight distance\n",
    "     - Pavement conditions\n",
    "- Operation factors\n",
    "     - Traffic signals\n",
    "     - Traffic signs\n",
    "     - Pavement markings\n",
    "- Environment conditions\n",
    "     - Weather -> pavement conditions\n",
    "- Human factors\n",
    "\n",
    "### (3) Crash reports and collision diagram\n",
    "- Read crash reports and perform a root cause analysis\n",
    "- Plot the collision diagram\n",
    "\n",
    "## Part 3: [Vehicle-operation-analysis](3_Vehicle-operation-analysis.ipynb)\n",
    "- Traffic volume and turning movements\n",
    "- Speed analysis\n",
    "- Level-of-Service\n",
    "- Gaps in traffic flow\n",
    "\n",
    "## Part 4: [Pedestrian and bicyclists activities](4_Pedestrian-and-bicyclists-activities.ipynb)\n",
    "- Volume of pedestrians and bicyclists\n",
    "\n",
    "## Part 5: Assessment of supporting documentation\n",
    "- Maintenance records\n",
    "- Public feedback\n",
    "\n",
    "## Part 6: Field observation\n",
    "- Observation of evasive actions, conflicts\n",
    "- Observation of road user characteristics\n",
    "\n",
    "## Part 7: Problem identification and countermeasures selection\n",
    "- Identify safety concerns\n",
    "- Short term solutions\n",
    "    - Maintenance, vegetation, changing signage, pavement markings, enforcement & education\n",
    "- Long term solutions\n",
    "    - Modify geometry, enforcement & education"
   ]
  },
  {
   "cell_type": "markdown",
   "id": "11149219",
   "metadata": {},
   "source": [
    "Sources: FHWA"
   ]
  },
  {
   "cell_type": "code",
   "execution_count": null,
   "id": "6723a19b",
   "metadata": {},
   "outputs": [],
   "source": []
  }
 ],
 "metadata": {
  "kernelspec": {
   "display_name": "Python 3 (ipykernel)",
   "language": "python",
   "name": "python3"
  },
  "language_info": {
   "codemirror_mode": {
    "name": "ipython",
    "version": 3
   },
   "file_extension": ".py",
   "mimetype": "text/x-python",
   "name": "python",
   "nbconvert_exporter": "python",
   "pygments_lexer": "ipython3",
   "version": "3.7.10"
  }
 },
 "nbformat": 4,
 "nbformat_minor": 5
}
